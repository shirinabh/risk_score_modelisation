{
 "cells": [
  {
   "cell_type": "code",
   "execution_count": 1,
   "metadata": {},
   "outputs": [
    {
     "name": "stdout",
     "output_type": "stream",
     "text": [
      "%pylab is deprecated, use %matplotlib inline and import the required libraries.\n",
      "Populating the interactive namespace from numpy and matplotlib\n"
     ]
    }
   ],
   "source": [
    "%pylab inline"
   ]
  },
  {
   "cell_type": "code",
   "execution_count": 3,
   "metadata": {},
   "outputs": [
    {
     "name": "stdout",
     "output_type": "stream",
     "text": [
      "R²=0.960  RMSE=0.0209\n",
      "\n",
      "segments les plus risqués :\n",
      "                 region                       sector  ANNEE  taux_reel  taux_pred  score_risque\n",
      "0         Île-de-France                 Construction   2016   0.407057   0.383708    100.000000\n",
      "1       Hauts-de-France  Hébergement et restauration   2017   0.376643   0.369629     96.330992\n",
      "2      Pays de la Loire  Hébergement et restauration   2014   0.321557   0.366244     95.448651\n",
      "3       Hauts-de-France                 Construction   2014   0.412502   0.350296     91.292419\n",
      "4         Île-de-France                 Construction   2017   0.373639   0.343033     89.399526\n",
      "5             Grand Est  Hébergement et restauration   2017   0.316263   0.342516     89.264954\n",
      "6       Hauts-de-France  Hébergement et restauration   2019   0.341056   0.336257     87.633756\n",
      "7  Auvergne-Rhône-Alpes  Hébergement et restauration   2014   0.287439   0.336126     87.599484\n",
      "8   Centre-Val de Loire  Hébergement et restauration   2015   0.398376   0.330956     86.252251\n",
      "9    Nouvelle-Aquitaine  Hébergement et restauration   2015   0.325680   0.315333     82.180616\n"
     ]
    },
    {
     "name": "stderr",
     "output_type": "stream",
     "text": [
      "/opt/dataiku/pyenv/lib64/python3.9/site-packages/sklearn/metrics/_regression.py:492: FutureWarning: 'squared' is deprecated in version 1.4 and will be removed in 1.6. To calculate the root mean squared error, use the function'root_mean_squared_error'.\n",
      "  warnings.warn(\n"
     ]
    }
   ],
   "source": [
    "import pandas as pd\n",
    "from dataiku import Dataset\n",
    "from sklearn.model_selection import train_test_split\n",
    "from sklearn.ensemble import RandomForestRegressor\n",
    "from sklearn.metrics import r2_score, mean_squared_error\n",
    "import numpy as np\n",
    "\n",
    "# --- jeu de données\n",
    "df = Dataset(\"annual_default_rates_sf\").get_dataframe()\n",
    "df = df.dropna(subset=[\"taux\", \"region\", \"sector\", \"ANNEE\"])\n",
    "\n",
    "# --- encodage simple\n",
    "X = pd.get_dummies(df[[\"region\", \"sector\", \"ANNEE\"]], drop_first=True)\n",
    "y = df[\"taux\"]\n",
    "\n",
    "# --- séparation apprentissage / validation\n",
    "X_train, X_test, y_train, y_test = train_test_split(X, y, test_size=0.2, random_state=42)\n",
    "\n",
    "# --- modèle\n",
    "rf = RandomForestRegressor(n_estimators=300, random_state=42, n_jobs=-1)\n",
    "rf.fit(X_train, y_train)\n",
    "\n",
    "# --- validation\n",
    "y_pred = rf.predict(X_test)\n",
    "r2 = r2_score(y_test, y_pred)\n",
    "rmse = mean_squared_error(y_test, y_pred, squared=False)\n",
    "print(f\"R²={r2:.3f}  RMSE={rmse:.4f}\")\n",
    "\n",
    "# --- score de risque\n",
    "score = 100 * (y_pred / y_pred.max())\n",
    "score = np.clip(score, 0, 100)\n",
    "\n",
    "# --- tableau des résultats\n",
    "out = df.loc[y_test.index, [\"region\", \"sector\", \"ANNEE\"]].copy()\n",
    "out[\"taux_reel\"] = y_test.values\n",
    "out[\"taux_pred\"] = y_pred\n",
    "out[\"score_risque\"] = score\n",
    "out = out.sort_values(\"score_risque\", ascending=False).reset_index(drop=True)\n",
    "\n",
    "print(\"\\nsegments les plus risqués :\")\n",
    "print(out.head(10))\n"
   ]
  },
  {
   "cell_type": "code",
   "execution_count": 5,
   "metadata": {},
   "outputs": [],
   "source": [
    "def compute_risk(region, sector, year):\n",
    "    \"\"\"\n",
    "    Retourne le score de risque (0–100) prédit pour une combinaison donnée.\n",
    "    \"\"\"\n",
    "    # crée un petit dataframe pour la prédiction\n",
    "    X_new = pd.DataFrame([{\"region\": region, \"sector\": sector, \"ANNEE\": year}])\n",
    "    X_new = pd.get_dummies(X_new, drop_first=True)\n",
    "    # aligne les colonnes sur celles du modèle\n",
    "    X_new = X_new.reindex(columns=X.columns, fill_value=0)\n",
    "    \n",
    "    # prédiction du taux\n",
    "    taux_pred = rf.predict(X_new)[0]\n",
    "    \n",
    "    # normalisation en score 0–100\n",
    "    max_ref = y_pred.max() if 'y_pred' in locals() else taux_pred\n",
    "    score = 100 * (taux_pred / max_ref)\n",
    "    score = float(np.clip(score, 0, 100))\n",
    "    \n",
    "    return {\n",
    "        \"region\": region,\n",
    "        \"sector\": sector,\n",
    "        \"ANNEE\": year,\n",
    "        \"taux_pred\": round(float(taux_pred), 4),\n",
    "        \"score_risque\": round(score, 1)\n",
    "    }\n",
    "\n"
   ]
  },
  {
   "cell_type": "code",
   "execution_count": 12,
   "metadata": {},
   "outputs": [
    {
     "name": "stdout",
     "output_type": "stream",
     "text": [
      "                        region                       sector  ANNEE REG A21  taux_pred  score_risque\n",
      "0                Île-de-France                 Construction   2026  11   F     0.1409          42.3\n",
      "1              Hauts-de-France                 Construction   2026  32   F     0.1147          34.5\n",
      "2              Hauts-de-France  Hébergement et restauration   2026  32   I     0.0997          29.9\n",
      "3          Centre-Val de Loire                 Construction   2026  24   F     0.0986          29.6\n",
      "4                    Grand Est                 Construction   2026  44   F     0.0968          29.1\n",
      "5          Centre-Val de Loire  Hébergement et restauration   2026  24   I     0.0939          28.2\n",
      "6                    Grand Est  Hébergement et restauration   2026  44   I     0.0927          27.8\n",
      "7                Île-de-France  Hébergement et restauration   2026  11   I     0.0900          27.0\n",
      "8      Bourgogne-Franche-Comté  Hébergement et restauration   2026  27   I     0.0897          26.9\n",
      "9                    Normandie                 Construction   2026  28   F     0.0878          26.4\n",
      "10     Bourgogne-Franche-Comté                 Construction   2026  27   F     0.0863          25.9\n",
      "11            Pays de la Loire                 Construction   2026  52   F     0.0798          24.0\n",
      "12        Auvergne-Rhône-Alpes                 Construction   2026  84   F     0.0797          23.9\n",
      "13  Provence-Alpes-Côte d'Azur                 Construction   2026  93   F     0.0797          23.9\n",
      "14                   Normandie  Hébergement et restauration   2026  28   I     0.0797          23.9\n"
     ]
    },
    {
     "name": "stderr",
     "output_type": "stream",
     "text": [
      "/opt/dataiku/python/dataiku/core/schema_handling.py:68: DeprecationWarning: is_datetime64tz_dtype is deprecated and will be removed in a future version. Check `isinstance(dtype, pd.DatetimeTZDtype)` instead.\n",
      "  if is_datetime64tz_dtype(dtype):\n"
     ]
    },
    {
     "name": "stdout",
     "output_type": "stream",
     "text": [
      "78 rows successfully written (3w15QYEd6l)\n"
     ]
    }
   ],
   "source": [
    "import pandas as pd\n",
    "import numpy as np\n",
    "\n",
    "# listes\n",
    "regions = [\n",
    " 'Hauts-de-France','Bretagne','Normandie','Grand Est','Pays de la Loire',\n",
    " 'Centre-Val de Loire','Bourgogne-Franche-Comté','Nouvelle-Aquitaine',\n",
    " 'Auvergne-Rhône-Alpes','Occitanie',\"Provence-Alpes-Côte d'Azur\",\n",
    " 'Corse','Île-de-France'\n",
    "]\n",
    "\n",
    "sectors = [\n",
    " 'Construction','Transports et entreposage','Hébergement et restauration',\n",
    " 'Information et communication',\"Activités financières et d'assurance\",\n",
    " 'Activités immobilières'\n",
    "]\n",
    "\n",
    "reg_code = {\n",
    " 'Île-de-France':'11','Centre-Val de Loire':'24','Bourgogne-Franche-Comté':'27',\n",
    " 'Normandie':'28','Hauts-de-France':'32','Grand Est':'44','Pays de la Loire':'52',\n",
    " 'Bretagne':'53','Nouvelle-Aquitaine':'75','Occitanie':'76','Auvergne-Rhône-Alpes':'84',\n",
    " \"Provence-Alpes-Côte d'Azur\":'93','Corse':'94'\n",
    "}\n",
    "\n",
    "a21_code = {\n",
    " 'Construction':'F','Transports et entreposage':'H','Hébergement et restauration':'I',\n",
    " 'Information et communication':'J',\"Activités financières et d'assurance\":'K',\n",
    " 'Activités immobilières':'L'\n",
    "}\n",
    "\n",
    "# toutes les combinaisons possibles pour 2026\n",
    "rows = []\n",
    "for r in regions:\n",
    "    for s in sectors:\n",
    "        rows.append({\"region\": r, \"sector\": s, \"ANNEE\": 2026,\n",
    "                     \"REG\": reg_code[r], \"A21\": a21_code[s]})\n",
    "\n",
    "df_2026 = pd.DataFrame(rows)\n",
    "\n",
    "# encodage des variables comme dans le modèle\n",
    "X_2026 = pd.get_dummies(df_2026[[\"region\",\"sector\",\"ANNEE\"]], drop_first=False)\n",
    "X_2026 = X_2026.reindex(columns=X.columns, fill_value=0)\n",
    "\n",
    "# prédiction et score\n",
    "pred = rf.predict(X_2026)\n",
    "p95 = np.percentile(rf.predict(X), 95)\n",
    "score = 100 * pred / p95\n",
    "score = np.clip(score, 0, 100)\n",
    "\n",
    "df_2026[\"taux_pred\"] = pred.round(4)\n",
    "df_2026[\"score_risque\"] = score.round(1)\n",
    "df_2026 = df_2026.sort_values(\"score_risque\", ascending=False).reset_index(drop=True)\n",
    "\n",
    "print(df_2026.head(15))\n",
    "\n",
    "from dataiku import Dataset\n",
    "Dataset(\"RISK_SCORE_2026\").write_with_schema(df_2026)\n"
   ]
  },
  {
   "cell_type": "code",
   "execution_count": 0,
   "metadata": {},
   "outputs": [],
   "source": []
  },
  {
   "cell_type": "code",
   "execution_count": 0,
   "metadata": {},
   "outputs": [],
   "source": []
  }
 ],
 "metadata": {
  "createdOn": 1761539206728,
  "creator": "shirin.abousalih@edu.dsti.institute",
  "customFields": {},
  "hide_input": false,
  "kernelspec": {
   "display_name": "Python in vCPU-1-RAM-8GiB (builtin env)",
   "language": "python",
   "name": "py-dku-containerized-venv--vcpu-1-ram-8gib"
  },
  "language_info": {
   "codemirror_mode": {
    "name": "ipython",
    "version": 3
   },
   "file_extension": ".py",
   "mimetype": "text/x-python",
   "name": "python",
   "nbconvert_exporter": "python",
   "pygments_lexer": "ipython3",
   "version": "3.9.21"
  },
  "modifiedBy": "shirin.abousalih@edu.dsti.institute",
  "tags": []
 },
 "nbformat": 4,
 "nbformat_minor": 1
}
